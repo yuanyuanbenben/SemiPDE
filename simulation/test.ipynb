{
 "cells": [
  {
   "cell_type": "code",
   "execution_count": 1,
   "metadata": {},
   "outputs": [
    {
     "name": "stderr",
     "output_type": "stream",
     "text": [
      "<frozen importlib._bootstrap>:219: RuntimeWarning: scipy._lib.messagestream.MessageStream size changed, may indicate binary incompatibility. Expected 56 from C header, got 64 from PyObject\n"
     ]
    },
    {
     "ename": "ValueError",
     "evalue": "too many values to unpack (expected 2)",
     "output_type": "error",
     "traceback": [
      "\u001b[0;31m---------------------------------------------------------------------------\u001b[0m",
      "\u001b[0;31mValueError\u001b[0m                                Traceback (most recent call last)",
      "\u001b[0;32m/tmp/ipykernel_93031/4085689765.py\u001b[0m in \u001b[0;36m<module>\u001b[0;34m\u001b[0m\n\u001b[1;32m     50\u001b[0m \u001b[0;34m\u001b[0m\u001b[0m\n\u001b[1;32m     51\u001b[0m \u001b[0;31m# generate data\u001b[0m\u001b[0;34m\u001b[0m\u001b[0;34m\u001b[0m\u001b[0;34m\u001b[0m\u001b[0m\n\u001b[0;32m---> 52\u001b[0;31m train,test = GFN_dataset.create_data(path_train=path_train,path_test=path_test,\n\u001b[0m\u001b[1;32m     53\u001b[0m     \u001b[0mD_1\u001b[0m\u001b[0;34m=\u001b[0m\u001b[0mD_1\u001b[0m\u001b[0;34m,\u001b[0m\u001b[0mD_2\u001b[0m\u001b[0;34m=\u001b[0m\u001b[0mD_2\u001b[0m\u001b[0;34m,\u001b[0m\u001b[0mfunc_f\u001b[0m\u001b[0;34m=\u001b[0m\u001b[0mfunc_f\u001b[0m\u001b[0;34m,\u001b[0m\u001b[0mfunc_g\u001b[0m\u001b[0;34m=\u001b[0m\u001b[0mfunc_g\u001b[0m\u001b[0;34m,\u001b[0m\u001b[0ma\u001b[0m\u001b[0;34m=\u001b[0m\u001b[0ma\u001b[0m\u001b[0;34m,\u001b[0m\u001b[0mepsilon\u001b[0m\u001b[0;34m=\u001b[0m\u001b[0mepsilon\u001b[0m\u001b[0;34m,\u001b[0m\u001b[0mgamma\u001b[0m\u001b[0;34m=\u001b[0m\u001b[0mgamma\u001b[0m\u001b[0;34m,\u001b[0m\u001b[0mbc\u001b[0m\u001b[0;34m=\u001b[0m\u001b[0mbc\u001b[0m\u001b[0;34m,\u001b[0m\u001b[0;34m\u001b[0m\u001b[0;34m\u001b[0m\u001b[0m\n\u001b[1;32m     54\u001b[0m     \u001b[0mbatch_size\u001b[0m\u001b[0;34m=\u001b[0m\u001b[0mbatch_size\u001b[0m\u001b[0;34m,\u001b[0m\u001b[0mtrain_curve_num\u001b[0m\u001b[0;34m=\u001b[0m\u001b[0mtrain_curve_num\u001b[0m\u001b[0;34m,\u001b[0m\u001b[0mtest_curve_num\u001b[0m\u001b[0;34m=\u001b[0m\u001b[0mtest_curve_num\u001b[0m\u001b[0;34m,\u001b[0m\u001b[0;34m\u001b[0m\u001b[0;34m\u001b[0m\u001b[0m\n",
      "\u001b[0;31mValueError\u001b[0m: too many values to unpack (expected 2)"
     ]
    }
   ],
   "source": [
    "# main function\n",
    "import torch\n",
    "import GFN_dataset\n",
    "import GFN_model\n",
    "import GFN_optimal\n",
    "import os\n",
    "import numpy as np\n",
    "import torch.nn as nn\n",
    "# setting parameters\n",
    "D_1 = 1e-3\n",
    "D_2 = 5e-3\n",
    "#func_f = lambda u,w: u-u**3-5e-3-w\n",
    "#func_g = None\n",
    "func_f = lambda u,w: 0\n",
    "func_g = lambda u,w: 0\n",
    "a = 0.1\n",
    "epsilon = 1\n",
    "gamma = 1\n",
    "bc = None\n",
    "batch_size = 32\n",
    "train_curve_num= 1600\n",
    "test_curve_num= 300\n",
    "sample_size=25\n",
    "T_range=[0,2.5]\n",
    "delta_t=1e-3\n",
    "range_grid=[[-1,1],[-1,1]]\n",
    "period=[True,True]\n",
    "num_grid=[64,64]\n",
    "seed_train=None\n",
    "seed_test=20221106\n",
    "initial=[0,1]\n",
    "noise_sigma=0.1\n",
    "dim=2\n",
    "hidden=[16,64,64,16]\n",
    "lambda_0 = 1.0\n",
    "tau_1 = 2e-4\n",
    "tau_2 = 1\n",
    "niter = 5\n",
    "nupdate = 50\n",
    "nepoch = 100\n",
    "nlog= 5\n",
    "path = \"./exp_gpu\"\n",
    "path_train = '_train_gfn_zero'\n",
    "path_test = '_test_gfn_zero'\n",
    "os.makedirs(path,exist_ok=True)\n",
    "os.makedirs(\"./outputs\",exist_ok=True)\n",
    "\n",
    "device = torch.device(\"cuda:1\")# if torch.cuda.is_available() else \"cpu\")\n",
    "\n",
    "\n",
    "# generate data\n",
    "train,test = GFN_dataset.create_data(path_train=path_train,path_test=path_test,\n",
    "    D_1=D_1,D_2=D_2,func_f=func_f,func_g=func_g,a=a,epsilon=epsilon,gamma=gamma,bc=bc,\n",
    "    batch_size=batch_size,train_curve_num=train_curve_num,test_curve_num=test_curve_num,\n",
    "    sample_size=sample_size,T_range=T_range,delta_t=delta_t,range_grid=range_grid,\n",
    "    period=period,num_grid=num_grid,seed_train=seed_train,seed_test=seed_test,\n",
    "    initial=initial,noise_sigma=noise_sigma,dim=dim)\n",
    "\n",
    "# construct model\n",
    "para_model = GFN_model.ParametricPart(dx=(range_grid[0][1]-range_grid[0][0])/num_grid[0])\n",
    "nonpara_model = GFN_model.NonParametricModel(state_dim=dim,hidden=hidden)\n",
    "\n",
    "mode = 1\n",
    "penalty = None#'orthogonal'\n",
    "#whole model\n",
    "full_model = GFN_model.SemiParametericModel(para_model,nonpara_model,mode=mode,penalty=penalty)\n"
   ]
  },
  {
   "cell_type": "code",
   "execution_count": 2,
   "metadata": {},
   "outputs": [],
   "source": [
    "import pde\n",
    "import numpy as np\n",
    "import torch.nn as nn\n",
    "import torch\n",
    "grid = pde.CartesianGrid([[-1,1],[-1,1]], [16,16],[True,True])\n",
    "grid = pde.ScalarField.from_expression(grid, 'x')\n"
   ]
  },
  {
   "cell_type": "code",
   "execution_count": 8,
   "metadata": {},
   "outputs": [
    {
     "data": {
      "text/plain": [
       "ScalarField(grid=CartesianGrid(bounds=((-1.0, 1.0), (-1.0, 1.0)), shape=(16, 16), periodic=[True, True]), data=[[-0.9375 -0.9375 -0.9375 -0.9375 -0.9375 -0.9375 -0.9375 -0.9375 -0.9375\n",
       "  -0.9375 -0.9375 -0.9375 -0.9375 -0.9375 -0.9375 -0.9375]\n",
       " [-0.8125 -0.8125 -0.8125 -0.8125 -0.8125 -0.8125 -0.8125 -0.8125 -0.8125\n",
       "  -0.8125 -0.8125 -0.8125 -0.8125 -0.8125 -0.8125 -0.8125]\n",
       " [-0.6875 -0.6875 -0.6875 -0.6875 -0.6875 -0.6875 -0.6875 -0.6875 -0.6875\n",
       "  -0.6875 -0.6875 -0.6875 -0.6875 -0.6875 -0.6875 -0.6875]\n",
       " [-0.5625 -0.5625 -0.5625 -0.5625 -0.5625 -0.5625 -0.5625 -0.5625 -0.5625\n",
       "  -0.5625 -0.5625 -0.5625 -0.5625 -0.5625 -0.5625 -0.5625]\n",
       " [-0.4375 -0.4375 -0.4375 -0.4375 -0.4375 -0.4375 -0.4375 -0.4375 -0.4375\n",
       "  -0.4375 -0.4375 -0.4375 -0.4375 -0.4375 -0.4375 -0.4375]\n",
       " [-0.3125 -0.3125 -0.3125 -0.3125 -0.3125 -0.3125 -0.3125 -0.3125 -0.3125\n",
       "  -0.3125 -0.3125 -0.3125 -0.3125 -0.3125 -0.3125 -0.3125]\n",
       " [-0.1875 -0.1875 -0.1875 -0.1875 -0.1875 -0.1875 -0.1875 -0.1875 -0.1875\n",
       "  -0.1875 -0.1875 -0.1875 -0.1875 -0.1875 -0.1875 -0.1875]\n",
       " [-0.0625 -0.0625 -0.0625 -0.0625 -0.0625 -0.0625 -0.0625 -0.0625 -0.0625\n",
       "  -0.0625 -0.0625 -0.0625 -0.0625 -0.0625 -0.0625 -0.0625]\n",
       " [ 0.0625  0.0625  0.0625  0.0625  0.0625  0.0625  0.0625  0.0625  0.0625\n",
       "   0.0625  0.0625  0.0625  0.0625  0.0625  0.0625  0.0625]\n",
       " [ 0.1875  0.1875  0.1875  0.1875  0.1875  0.1875  0.1875  0.1875  0.1875\n",
       "   0.1875  0.1875  0.1875  0.1875  0.1875  0.1875  0.1875]\n",
       " [ 0.3125  0.3125  0.3125  0.3125  0.3125  0.3125  0.3125  0.3125  0.3125\n",
       "   0.3125  0.3125  0.3125  0.3125  0.3125  0.3125  0.3125]\n",
       " [ 0.4375  0.4375  0.4375  0.4375  0.4375  0.4375  0.4375  0.4375  0.4375\n",
       "   0.4375  0.4375  0.4375  0.4375  0.4375  0.4375  0.4375]\n",
       " [ 0.5625  0.5625  0.5625  0.5625  0.5625  0.5625  0.5625  0.5625  0.5625\n",
       "   0.5625  0.5625  0.5625  0.5625  0.5625  0.5625  0.5625]\n",
       " [ 0.6875  0.6875  0.6875  0.6875  0.6875  0.6875  0.6875  0.6875  0.6875\n",
       "   0.6875  0.6875  0.6875  0.6875  0.6875  0.6875  0.6875]\n",
       " [ 0.8125  0.8125  0.8125  0.8125  0.8125  0.8125  0.8125  0.8125  0.8125\n",
       "   0.8125  0.8125  0.8125  0.8125  0.8125  0.8125  0.8125]\n",
       " [ 0.9375  0.9375  0.9375  0.9375  0.9375  0.9375  0.9375  0.9375  0.9375\n",
       "   0.9375  0.9375  0.9375  0.9375  0.9375  0.9375  0.9375]])"
      ]
     },
     "execution_count": 8,
     "metadata": {},
     "output_type": "execute_result"
    }
   ],
   "source": [
    "grid"
   ]
  },
  {
   "cell_type": "code",
   "execution_count": 13,
   "metadata": {},
   "outputs": [
    {
     "data": {
      "text/plain": [
       "array([0.  , 0.05, 0.1 , 0.15, 0.2 , 0.25, 0.3 , 0.35, 0.4 , 0.45, 0.5 ,\n",
       "       0.55, 0.6 , 0.65, 0.7 , 0.75, 0.8 , 0.85, 0.9 , 0.95, 1.  , 1.05,\n",
       "       1.1 , 1.15, 1.2 , 1.25, 1.3 , 1.35, 1.4 , 1.45, 1.5 , 1.55, 1.6 ,\n",
       "       1.65, 1.7 , 1.75, 1.8 , 1.85, 1.9 , 1.95, 2.  , 2.05, 2.1 , 2.15,\n",
       "       2.2 , 2.25, 2.3 , 2.35, 2.4 , 2.45, 2.5 ])"
      ]
     },
     "execution_count": 13,
     "metadata": {},
     "output_type": "execute_result"
    }
   ],
   "source": [
    "np.linspace(0.,2.5,51,endpoint=True)"
   ]
  },
  {
   "cell_type": "code",
   "execution_count": 3,
   "metadata": {},
   "outputs": [
    {
     "data": {
      "text/plain": [
       "tensor([[1],\n",
       "        [2],\n",
       "        [3],\n",
       "        [4]])"
      ]
     },
     "execution_count": 3,
     "metadata": {},
     "output_type": "execute_result"
    }
   ],
   "source": [
    "a = torch.tensor([[1,2],[3,4]])\n",
    "a.view(4,1)"
   ]
  },
  {
   "cell_type": "code",
   "execution_count": 9,
   "metadata": {},
   "outputs": [
    {
     "data": {
      "text/plain": [
       "tensor([[0, 0],\n",
       "        [0, 1],\n",
       "        [0, 2],\n",
       "        [0, 3],\n",
       "        [1, 0],\n",
       "        [1, 1],\n",
       "        [1, 2],\n",
       "        [1, 3],\n",
       "        [2, 0],\n",
       "        [2, 1],\n",
       "        [2, 2],\n",
       "        [2, 3],\n",
       "        [3, 0],\n",
       "        [3, 1],\n",
       "        [3, 2],\n",
       "        [3, 3]])"
      ]
     },
     "execution_count": 9,
     "metadata": {},
     "output_type": "execute_result"
    }
   ],
   "source": [
    "a = torch.tensor([[x,y] for x in range(4) for y in range(4)])\n",
    "a.view(16,2)"
   ]
  },
  {
   "cell_type": "code",
   "execution_count": 10,
   "metadata": {},
   "outputs": [
    {
     "data": {
      "text/plain": [
       "[0.024390243902439025,\n",
       " 0.024629935223270363,\n",
       " 0.024873146950552177,\n",
       " 0.02511994775050868,\n",
       " 0.025370407956159927,\n",
       " 0.025624599615631006,\n",
       " 0.025882596542085103,\n",
       " 0.026144474365342882,\n",
       " 0.026410310585252485,\n",
       " 0.02668018462687761,\n",
       " 0.026954177897574122,\n",
       " 0.02723237384602816,\n",
       " 0.027514858023332592,\n",
       " 0.027801718146181435,\n",
       " 0.02809304416226542,\n",
       " 0.028388928317955996,\n",
       " 0.028689465228368148,\n",
       " 0.028994751949897066,\n",
       " 0.029304888055327633,\n",
       " 0.02961997571161991,\n",
       " 0.029940119760479042,\n",
       " 0.03026542780182198,\n",
       " 0.03059601028025945,\n",
       " 0.030931980574716206,\n",
       " 0.031273455091318486,\n",
       " 0.03162055335968379,\n",
       " 0.03197339813275355,\n",
       " 0.03233211549031653,\n",
       " 0.03269683494637719,\n",
       " 0.033067689560530404,\n",
       " 0.033444816053511704,\n",
       " 0.0338283549270999,\n",
       " 0.034218450588557346,\n",
       " 0.034615251479802,\n",
       " 0.03501891021151421,\n",
       " 0.03542958370239149,\n",
       " 0.03584743332377402,\n",
       " 0.03627262504987486,\n",
       " 0.03670532961385993,\n",
       " 0.037145722670034534,\n",
       " 0.03759398496240601,\n",
       " 0.03805030249990488,\n",
       " 0.03851486673856108,\n",
       " 0.038987874770946236,\n",
       " 0.039469529523208084,\n",
       " 0.03996003996003996,\n",
       " 0.040459621297944656,\n",
       " 0.0409684952271703,\n",
       " 0.0414868901427149,\n",
       " 0.04201504138481576,\n",
       " 0.0425531914893617,\n",
       " 0.04310159044868756,\n",
       " 0.04366049598323436,\n",
       " 0.044230173824583136,\n",
       " 0.04481089801039612,\n",
       " 0.04540295119182747,\n",
       " 0.04600662495399338,\n",
       " 0.046622220150123544,\n",
       " 0.04725004725004725,\n",
       " 0.04789042670370193,\n",
       " 0.04854368932038835,\n",
       " 0.04921017666453423,\n",
       " 0.0498902414687687,\n",
       " 0.050584248065152514,\n",
       " 0.05129257283545343,\n",
       " 0.05201560468140442,\n",
       " 0.052753745515931635,\n",
       " 0.05350741077639252,\n",
       " 0.05427702996092054,\n",
       " 0.05506304718903145,\n",
       " 0.055865921787709494,\n",
       " 0.05668612890425714,\n",
       " 0.05752416014726184,\n",
       " 0.058380524257107824,\n",
       " 0.05925574780753734,\n",
       " 0.06015037593984962,\n",
       " 0.06106497313141183,\n",
       " 0.06200012400024798,\n",
       " 0.06295643414756989,\n",
       " 0.06393453104021482,\n",
       " 0.06493506493506493,\n",
       " 0.06595870984763537,\n",
       " 0.06700616456714018,\n",
       " 0.0680781537204711,\n",
       " 0.0691754288876591,\n",
       " 0.07029876977152899,\n",
       " 0.07144898542440696,\n",
       " 0.07262691553489724,\n",
       " 0.07383343177790905,\n",
       " 0.07506943923128895,\n",
       " 0.07633587786259541,\n",
       " 0.07763372408974459,\n",
       " 0.07896399241945674,\n",
       " 0.080327737167644,\n",
       " 0.08172605426610002,\n",
       " 0.08316008316008315,\n",
       " 0.08463100880162494,\n",
       " 0.08614006374364719,\n",
       " 0.0876885303402315,\n",
       " 0.08927774305865548,\n",
       " 0.09090909090909091,\n",
       " 0.09258401999814833,\n",
       " 0.09430403621274991,\n",
       " 0.09607070804111827,\n",
       " 0.09788566953797964,\n",
       " 0.0997506234413965,\n",
       " 0.10166734444896303,\n",
       " 0.1036376826614157,\n",
       " 0.10566356720202875,\n",
       " 0.10774701002047195,\n",
       " 0.10989010989010989,\n",
       " 0.11209505660800359,\n",
       " 0.11436413540713633,\n",
       " 0.11669973159061735,\n",
       " 0.11910433539780847,\n",
       " 0.12158054711246198,\n",
       " 0.12413108242303877,\n",
       " 0.12675877804537966,\n",
       " 0.1294665976178146,\n",
       " 0.1322576378785875,\n",
       " 0.13513513513513511,\n",
       " 0.13810247203424944,\n",
       " 0.14116318464144553,\n",
       " 0.1443209698369173,\n",
       " 0.14757969303423848,\n",
       " 0.1509433962264151,\n",
       " 0.15441630636195186,\n",
       " 0.15800284405119294,\n",
       " 0.16170763260025875,\n",
       " 0.16553550736633008,\n",
       " 0.1694915254237288,\n",
       " 0.1735809755250825,\n",
       " 0.17780938833570417,\n",
       " 0.18218254691200583,\n",
       " 0.18670649738610903,\n",
       " 0.1913875598086124,\n",
       " 0.196232339089482,\n",
       " 0.20124773596297046,\n",
       " 0.2064409578860446,\n",
       " 0.21181952976064392,\n",
       " 0.2173913043478261,\n",
       " 0.2231644722160233,\n",
       " 0.22914757103574707,\n",
       " 0.23534949399858793,\n",
       " 0.24177949709864607,\n",
       " 0.24844720496894407,\n",
       " 0.2553626149131768,\n",
       " 0.26253609871357314,\n",
       " 0.2699784017278618,\n",
       " 0.27770063871146905,\n",
       " 0.2857142857142857,\n",
       " 0.2940311673037343,\n",
       " 0.3026634382566587,\n",
       " 0.3116235587410409,\n",
       " 0.3209242618741977,\n",
       " 0.3305785123966942,\n",
       " 0.340599455040872,\n",
       " 0.3510003510003511,\n",
       " 0.3617945007235891,\n",
       " 0.37299515106303616,\n",
       " 0.3846153846153846,\n",
       " 0.39666798889329646,\n",
       " 0.40916530278232394,\n",
       " 0.42211903756859437,\n",
       " 0.43554006968641146,\n",
       " 0.449438202247191,\n",
       " 0.4638218923933212,\n",
       " 0.47869794159885104,\n",
       " 0.4940711462450594,\n",
       " 0.5099439061703216,\n",
       " 0.5263157894736842,\n",
       " 0.5431830526887563,\n",
       " 0.5605381165919281,\n",
       " 0.5783689994216311,\n",
       " 0.5966587112171842,\n",
       " 0.6153846153846154,\n",
       " 0.6345177664974622,\n",
       " 0.6540222367560495,\n",
       " 0.6738544474393532,\n",
       " 0.6939625260235951,\n",
       " 0.7142857142857143,\n",
       " 0.7347538574577519,\n",
       " 0.7552870090634439,\n",
       " 0.7757951900698218,\n",
       " 0.796178343949045,\n",
       " 0.8163265306122448,\n",
       " 0.8361204013377929,\n",
       " 0.8554319931565438,\n",
       " 0.8741258741258742,\n",
       " 0.8920606601248888,\n",
       " 0.9090909090909091,\n",
       " 0.9250693802035155,\n",
       " 0.9398496240601507,\n",
       " 0.9532888465204957,\n",
       " 0.9652509652509654,\n",
       " 0.9756097560975611,\n",
       " 0.9842519685039373,\n",
       " 0.9910802775024778,\n",
       " 0.9960159362549801,\n",
       " 0.9990009990009991,\n",
       " 1.0,\n",
       " 0.9990009990009989,\n",
       " 0.9960159362549801,\n",
       " 0.9910802775024776,\n",
       " 0.9842519685039368,\n",
       " 0.9756097560975611,\n",
       " 0.965250965250965,\n",
       " 0.9532888465204954,\n",
       " 0.9398496240601504,\n",
       " 0.9250693802035149,\n",
       " 0.9090909090909091,\n",
       " 0.8920606601248883,\n",
       " 0.8741258741258737,\n",
       " 0.8554319931565438,\n",
       " 0.8361204013377922,\n",
       " 0.8163265306122448,\n",
       " 0.7961783439490443,\n",
       " 0.7757951900698209,\n",
       " 0.7552870090634439,\n",
       " 0.7347538574577511,\n",
       " 0.7142857142857143,\n",
       " 0.6939625260235944,\n",
       " 0.6738544474393525,\n",
       " 0.6540222367560495,\n",
       " 0.6345177664974615,\n",
       " 0.6153846153846154,\n",
       " 0.5966587112171835,\n",
       " 0.5783689994216306,\n",
       " 0.5605381165919281,\n",
       " 0.5431830526887558,\n",
       " 0.5263157894736842,\n",
       " 0.509943906170321,\n",
       " 0.4940711462450588,\n",
       " 0.47869794159885104,\n",
       " 0.46382189239332067,\n",
       " 0.449438202247191,\n",
       " 0.43554006968641096,\n",
       " 0.4221190375685939,\n",
       " 0.40916530278232394,\n",
       " 0.396667988893296,\n",
       " 0.3846153846153846,\n",
       " 0.372995151063036,\n",
       " 0.3617945007235886,\n",
       " 0.35100035100035093,\n",
       " 0.34059945504087175,\n",
       " 0.3305785123966942,\n",
       " 0.32092426187419754,\n",
       " 0.31162355874104053,\n",
       " 0.30266343825665853,\n",
       " 0.294031167303734,\n",
       " 0.2857142857142857,\n",
       " 0.2777006387114689,\n",
       " 0.26997840172786153,\n",
       " 0.26253609871357303,\n",
       " 0.2553626149131766,\n",
       " 0.24844720496894407,\n",
       " 0.24177949709864593,\n",
       " 0.23534949399858773,\n",
       " 0.22914757103574698,\n",
       " 0.2231644722160231,\n",
       " 0.2173913043478261,\n",
       " 0.21181952976064386,\n",
       " 0.20644095788604447,\n",
       " 0.20124773596297038,\n",
       " 0.19623233908948184,\n",
       " 0.1913875598086124,\n",
       " 0.18670649738610898,\n",
       " 0.18218254691200572,\n",
       " 0.1778093883357041,\n",
       " 0.17358097552508236,\n",
       " 0.1694915254237288,\n",
       " 0.16553550736633002,\n",
       " 0.1617076326002586,\n",
       " 0.1580028440511929,\n",
       " 0.15441630636195175,\n",
       " 0.1509433962264151,\n",
       " 0.14757969303423843,\n",
       " 0.1443209698369172,\n",
       " 0.14116318464144548,\n",
       " 0.13810247203424936,\n",
       " 0.13513513513513511,\n",
       " 0.13225763787858744,\n",
       " 0.1294665976178145,\n",
       " 0.1267587780453796,\n",
       " 0.12413108242303866,\n",
       " 0.12158054711246198,\n",
       " 0.11910433539780844,\n",
       " 0.11669973159061726,\n",
       " 0.1143641354071363,\n",
       " 0.11209505660800355,\n",
       " 0.10989010989010989,\n",
       " 0.10774701002047188,\n",
       " 0.10566356720202867,\n",
       " 0.10363768266141568,\n",
       " 0.10166734444896296,\n",
       " 0.0997506234413965,\n",
       " 0.09788566953797961,\n",
       " 0.09607070804111821,\n",
       " 0.09430403621274988,\n",
       " 0.09258401999814828,\n",
       " 0.09090909090909091,\n",
       " 0.08927774305865545,\n",
       " 0.08768853034023144,\n",
       " 0.08614006374364716,\n",
       " 0.08463100880162489,\n",
       " 0.08316008316008315,\n",
       " 0.08172605426610001,\n",
       " 0.08032773716764394,\n",
       " 0.07896399241945672,\n",
       " 0.07763372408974455,\n",
       " 0.07633587786259541,\n",
       " 0.07506943923128892,\n",
       " 0.07383343177790899,\n",
       " 0.07262691553489722,\n",
       " 0.07144898542440695,\n",
       " 0.07029876977152899,\n",
       " 0.06917542888765908,\n",
       " 0.06807815372047107,\n",
       " 0.06700616456714018,\n",
       " 0.06595870984763536,\n",
       " 0.06493506493506493,\n",
       " 0.0639345310402148,\n",
       " 0.06295643414756985,\n",
       " 0.06200012400024795,\n",
       " 0.06106497313141183,\n",
       " 0.06015037593984962,\n",
       " 0.05925574780753731,\n",
       " 0.0583805242571078,\n",
       " 0.05752416014726181,\n",
       " 0.05668612890425714,\n",
       " 0.055865921787709494,\n",
       " 0.055063047189031426,\n",
       " 0.05427702996092052,\n",
       " 0.0535074107763925,\n",
       " 0.052753745515931635,\n",
       " 0.05201560468140442,\n",
       " 0.05129257283545341,\n",
       " 0.050584248065152486,\n",
       " 0.04989024146876868,\n",
       " 0.04921017666453423,\n",
       " 0.04854368932038835,\n",
       " 0.04789042670370192,\n",
       " 0.04725004725004723,\n",
       " 0.046622220150123524,\n",
       " 0.04600662495399338,\n",
       " 0.04540295119182747,\n",
       " 0.044810898010396116,\n",
       " 0.044230173824583115,\n",
       " 0.04366049598323434,\n",
       " 0.04310159044868756,\n",
       " 0.0425531914893617,\n",
       " 0.04201504138481575,\n",
       " 0.04148689014271489,\n",
       " 0.04096849522717028,\n",
       " 0.040459621297944656,\n",
       " 0.03996003996003996,\n",
       " 0.03946952952320808,\n",
       " 0.038987874770946215,\n",
       " 0.03851486673856107,\n",
       " 0.03805030249990488,\n",
       " 0.03759398496240601,\n",
       " 0.037145722670034534,\n",
       " 0.036705329613859916,\n",
       " 0.03627262504987484,\n",
       " 0.03584743332377402,\n",
       " 0.03542958370239149,\n",
       " 0.03501891021151421,\n",
       " 0.03461525147980199,\n",
       " 0.03421845058855733,\n",
       " 0.0338283549270999,\n",
       " 0.033444816053511704,\n",
       " 0.033067689560530404,\n",
       " 0.03269683494637718,\n",
       " 0.03233211549031651,\n",
       " 0.03197339813275355,\n",
       " 0.03162055335968379,\n",
       " 0.031273455091318486,\n",
       " 0.030931980574716193,\n",
       " 0.030596010280259444,\n",
       " 0.03026542780182198,\n",
       " 0.029940119760479042,\n",
       " 0.02961997571161991,\n",
       " 0.029304888055327615,\n",
       " 0.028994751949897053,\n",
       " 0.028689465228368124,\n",
       " 0.028388928317955996,\n",
       " 0.02809304416226542,\n",
       " 0.02780171814618142,\n",
       " 0.02751485802333259,\n",
       " 0.02723237384602814,\n",
       " 0.026954177897574122,\n",
       " 0.02668018462687761,\n",
       " 0.026410310585252474,\n",
       " 0.026144474365342875,\n",
       " 0.025882596542085086,\n",
       " 0.025624599615631006,\n",
       " 0.025370407956159927,\n",
       " 0.025119947750508673,\n",
       " 0.02487314695055217,\n",
       " 0.024629935223270345,\n",
       " 0.024390243902439025]"
      ]
     },
     "execution_count": 10,
     "metadata": {},
     "output_type": "execute_result"
    }
   ],
   "source": [
    "import numpy as np\n",
    "[1/(1+0.1*(20-x)**2) for x in np.linspace(0,40,401,endpoint=True)]"
   ]
  },
  {
   "cell_type": "code",
   "execution_count": 18,
   "metadata": {},
   "outputs": [
    {
     "name": "stdout",
     "output_type": "stream",
     "text": [
      "OrderedDict([('0.weight', tensor([[ 0.2883, -0.3798],\n",
      "        [-0.2928, -0.2982],\n",
      "        [ 0.3213, -0.1138],\n",
      "        [ 0.5939,  0.6586],\n",
      "        [ 0.4909,  0.3888],\n",
      "        [ 0.0133,  0.5867],\n",
      "        [ 0.1756,  0.4344],\n",
      "        [ 0.3452, -0.1942],\n",
      "        [-0.6789, -0.1493],\n",
      "        [-0.3087, -0.2238],\n",
      "        [-0.0497,  0.3250],\n",
      "        [-0.4829,  0.6424],\n",
      "        [ 0.6125, -0.5096],\n",
      "        [ 0.5629, -0.6460],\n",
      "        [ 0.0697, -0.5349],\n",
      "        [ 0.2435, -0.5879]])), ('0.bias', tensor([ 1.6597e-01, -1.4530e-01, -2.1542e-01, -2.9715e-01, -6.1348e-01,\n",
      "        -5.1887e-01, -6.6770e-01,  1.9606e-01,  6.1219e-02, -5.2414e-04,\n",
      "        -1.0276e-01, -4.9339e-01,  6.6249e-01,  1.3850e-01,  4.9389e-01,\n",
      "        -4.4644e-01])), ('2.weight', tensor([[-0.2044,  0.2329, -0.0731,  ..., -0.1693, -0.2100,  0.1148],\n",
      "        [ 0.1260, -0.0865,  0.0114,  ...,  0.2035, -0.1491,  0.1053],\n",
      "        [-0.2310,  0.0540, -0.1095,  ..., -0.2330,  0.1626,  0.2010],\n",
      "        ...,\n",
      "        [-0.0260, -0.1491, -0.1192,  ..., -0.1181, -0.1557,  0.0292],\n",
      "        [ 0.0641, -0.2421,  0.1188,  ...,  0.0075,  0.0954, -0.0536],\n",
      "        [-0.0311,  0.0336, -0.1612,  ...,  0.2450,  0.0379,  0.1362]])), ('2.bias', tensor([ 0.1415, -0.2076,  0.2343,  0.1733, -0.1488,  0.0488, -0.2298, -0.1381,\n",
      "         0.2271,  0.1148,  0.1652, -0.0389,  0.0030,  0.0491,  0.1852, -0.1437,\n",
      "         0.0616,  0.2216, -0.2224,  0.0108,  0.0882, -0.1499,  0.1518, -0.2347,\n",
      "        -0.1521,  0.1668,  0.1081, -0.0494,  0.0898,  0.1673,  0.2198, -0.0665,\n",
      "        -0.0705, -0.2009, -0.0302,  0.0673,  0.2408,  0.0675, -0.2332, -0.2147,\n",
      "         0.0290,  0.0339,  0.1768,  0.0545, -0.1026, -0.1619,  0.1925, -0.0715,\n",
      "         0.2223, -0.0143, -0.1429, -0.1559,  0.2168,  0.1301,  0.0923, -0.0340,\n",
      "         0.1439,  0.1385, -0.0833,  0.1303, -0.2490, -0.1258,  0.2310,  0.2210])), ('4.weight', tensor([[ 0.0921,  0.1133, -0.0196,  ...,  0.0275,  0.1108,  0.0443],\n",
      "        [-0.0682, -0.0317,  0.0727,  ..., -0.1164, -0.0106, -0.0188],\n",
      "        [-0.0339,  0.0246, -0.1025,  ..., -0.0386,  0.0016, -0.0750],\n",
      "        ...,\n",
      "        [ 0.0245, -0.0102, -0.0593,  ...,  0.0620,  0.0809, -0.1111],\n",
      "        [-0.0510,  0.0066, -0.0450,  ...,  0.0801, -0.0441, -0.0422],\n",
      "        [ 0.1197,  0.0789,  0.0725,  ...,  0.0195,  0.0406,  0.0983]])), ('4.bias', tensor([ 0.0748, -0.1241, -0.0013, -0.0187,  0.0734,  0.1023,  0.0729, -0.0695,\n",
      "         0.0079, -0.0671,  0.0919,  0.0867, -0.0271,  0.0312, -0.0991, -0.1164,\n",
      "         0.0048, -0.0248,  0.1078,  0.0344, -0.1021, -0.0973, -0.0975,  0.0015,\n",
      "        -0.0115, -0.0452, -0.1073, -0.1141, -0.0526,  0.0785,  0.0134,  0.1074,\n",
      "         0.0181, -0.0165,  0.0121, -0.0505, -0.0942,  0.0864, -0.0331,  0.0906,\n",
      "         0.0489, -0.1071,  0.0227, -0.0194,  0.1246, -0.0570, -0.0398, -0.0886,\n",
      "         0.0840, -0.0654, -0.1034, -0.0480,  0.1005, -0.0744, -0.0776,  0.1000,\n",
      "        -0.0696,  0.0829, -0.0133,  0.0273, -0.0043,  0.0601,  0.0843, -0.0120])), ('6.weight', tensor([[ 0.0872,  0.0359,  0.0472,  ..., -0.0651, -0.0844,  0.0211],\n",
      "        [ 0.0761,  0.0297, -0.0941,  ...,  0.0192,  0.0802,  0.1232],\n",
      "        [-0.1133, -0.1168, -0.0500,  ...,  0.0720,  0.0861, -0.0658],\n",
      "        ...,\n",
      "        [-0.0953, -0.0138,  0.0109,  ..., -0.0586, -0.0733, -0.0295],\n",
      "        [ 0.0036,  0.0485,  0.0680,  ...,  0.1172,  0.0768,  0.0443],\n",
      "        [-0.1233,  0.0413, -0.1076,  ..., -0.0672,  0.0081, -0.0178]])), ('6.bias', tensor([-0.0515,  0.0341,  0.0589, -0.0912,  0.0384, -0.0427, -0.0915,  0.1246,\n",
      "         0.0847,  0.0670, -0.0967,  0.0712, -0.0806,  0.0909, -0.0356, -0.1121])), ('8.weight', tensor([[-0.2124,  0.1180, -0.0614,  0.0862,  0.2422,  0.0799, -0.0087, -0.0744,\n",
      "          0.2288, -0.1292,  0.1049,  0.0620,  0.1448,  0.2118,  0.1948, -0.1207],\n",
      "        [-0.0197,  0.1725,  0.2495,  0.0657,  0.1615,  0.1058,  0.0558,  0.2293,\n",
      "         -0.1827,  0.0107,  0.1144, -0.0783, -0.1426,  0.1931,  0.0105, -0.2471]])), ('8.bias', tensor([-0.0787, -0.2334]))])\n"
     ]
    }
   ],
   "source": [
    "a = full_model.nonpara_model.net.state_dict()\n",
    "print(a)"
   ]
  },
  {
   "cell_type": "code",
   "execution_count": 20,
   "metadata": {},
   "outputs": [
    {
     "name": "stderr",
     "output_type": "stream",
     "text": [
      "/home/yuanyuanbenben/anaconda3/lib/python3.8/site-packages/torch/cuda/__init__.py:497: UserWarning: Can't initialize NVML\n",
      "  warnings.warn(\"Can't initialize NVML\")\n"
     ]
    },
    {
     "data": {
      "text/plain": [
       "tensor(1., device='cuda:1', grad_fn=<ToCopyBackward0>)"
      ]
     },
     "execution_count": 20,
     "metadata": {},
     "output_type": "execute_result"
    }
   ],
   "source": [
    "a = nn.Parameter(torch.tensor(1.0))\n",
    "a.to('cuda:1')"
   ]
  },
  {
   "cell_type": "code",
   "execution_count": 15,
   "metadata": {},
   "outputs": [
    {
     "name": "stdout",
     "output_type": "stream",
     "text": [
      "[1.412 2.235]\n"
     ]
    }
   ],
   "source": [
    "a = np.array([0.,0.])\n",
    "a += np.array([1.412,2.235])\n",
    "print(a)"
   ]
  },
  {
   "cell_type": "code",
   "execution_count": 1,
   "metadata": {},
   "outputs": [],
   "source": [
    "import torch.nn as nn"
   ]
  },
  {
   "cell_type": "code",
   "execution_count": 1,
   "metadata": {},
   "outputs": [
    {
     "name": "stdout",
     "output_type": "stream",
     "text": [
      "Parameter containing:\n",
      "tensor(0.0900, device='cuda:0', requires_grad=True)\n",
      "Parameter containing:\n",
      "tensor(0.0837, device='cuda:0', requires_grad=True)\n",
      "Parameter containing:\n",
      "tensor(0.1039, device='cuda:0', requires_grad=True)\n",
      "4899\n"
     ]
    }
   ],
   "source": [
    "import torch\n",
    "checkpoint = torch.load('./checkpoint/ckpt_rcd_PINN_para_1_1_20_0.050_1.000_0.100.pth')\n",
    "print(checkpoint['D_1'])\n",
    "print(checkpoint['D_2'])\n",
    "print(checkpoint['D_3'])\n",
    "print(checkpoint['epoch'])"
   ]
  },
  {
   "cell_type": "code",
   "execution_count": 12,
   "metadata": {},
   "outputs": [
    {
     "data": {
      "text/plain": [
       "tensor([ 0.0000,  0.2500,  0.5000,  0.7500,  1.0000,  1.2500,  1.5000,  1.7500,\n",
       "         2.0000,  2.2500,  2.5000,  2.7500,  3.0000,  3.2500,  3.5000,  3.7500,\n",
       "         4.0000,  4.2500,  4.5000,  4.7500,  5.0000,  5.2500,  5.5000,  5.7500,\n",
       "         6.0000,  6.2500,  6.5000,  6.7500,  7.0000,  7.2500,  7.5000,  7.7500,\n",
       "         8.0000,  8.2500,  8.5000,  8.7500,  9.0000,  9.2500,  9.5000,  9.7500,\n",
       "        10.0000, 10.2500, 10.5000, 10.7500, 11.0000, 11.2500, 11.5000, 11.7500,\n",
       "        12.0000, 12.2500, 12.5000, 12.7500, 13.0000, 13.2500, 13.5000, 13.7500,\n",
       "        14.0000, 14.2500, 14.5000, 14.7500, 15.0000, 15.2500, 15.5000, 15.7500,\n",
       "        16.0000, 16.2500, 16.5000, 16.7500, 17.0000, 17.2500, 17.5000, 17.7500,\n",
       "        18.0000, 18.2500, 18.5000, 18.7500, 19.0000, 19.2500, 19.5000, 19.7500,\n",
       "        20.0000, 20.2500, 20.5000, 20.7500, 21.0000, 21.2500, 21.5000, 21.7500,\n",
       "        22.0000, 22.2500, 22.5000, 22.7500, 23.0000, 23.2500, 23.5000, 23.7500,\n",
       "        24.0000, 24.2500, 24.5000, 24.7500, 25.0000])"
      ]
     },
     "execution_count": 12,
     "metadata": {},
     "output_type": "execute_result"
    }
   ],
   "source": [
    "import pde\n",
    "import torch.nn as nn\n",
    "import torch\n",
    "_grid = pde.CartesianGrid([[-0.125,25.125],[-1,1],[-1,1]], [101,16,16], [True,True,True])\n",
    "grid = nn.Parameter(torch.tensor(\n",
    "            pde.VectorField.from_expression(_grid,[\"x\",\"y\",\"z\"]).data\n",
    "        ).float().permute(1,2,3,0),requires_grad=False)\n",
    "grid[:,0,0,0]"
   ]
  },
  {
   "cell_type": "code",
   "execution_count": 14,
   "metadata": {},
   "outputs": [
    {
     "data": {
      "image/png": "[encoded data removed]",
      "text/plain": [
       "<Figure size 600x600 with 1 Axes>"
      ]
     },
     "metadata": {},
     "output_type": "display_data"
    }
   ],
   "source": [
    "import matplotlib.pyplot as plt\n",
    "from matplotlib.patches import Ellipse\n",
    "import matplotlib.transforms as transforms\n",
    "import numpy as np\n",
    "\n",
    "\n",
    "data_firststep = np.load(\"./outputs/gfn/pre_train.npy\")\n",
    "data_orthogonal = np.load(\"./outputs/gfn/final_result.npy\")\n",
    "data_variance = np.load(\"./outputs/gfn/variance.npy\")\n",
    "\n",
    "fig, ax_kwargs = plt.subplots(figsize=(6, 6))\n",
    "ax_kwargs.plot(data_firststep[2,10:],data_firststep[3,10:],data_orthogonal[0,],data_orthogonal[1,])\n",
    "lambda_, v = np.linalg.eig(data_variance)\n",
    "angle = np.rad2deg(np.arccos(v[0,0]))\n",
    "ell_radius_x = np.sqrt(lambda_[0])\n",
    "ell_radius_y = np.sqrt(lambda_[1])\n",
    "ellip = Ellipse((1e-3,5e-3),width = ell_radius_x * 2, height = ell_radius_y * 2, facecolor = 'red', angle = angle)\n",
    "ax_kwargs.add_patch(ellip)\n",
    "ax_kwargs.legend(labels = ['initial step','orthogonal score'],loc=1)\n",
    "plt.ylabel('D_2')\n",
    "plt.xlabel('D_1')\n",
    "plt.show()"
   ]
  },
  {
   "cell_type": "code",
   "execution_count": 11,
   "metadata": {},
   "outputs": [
    {
     "data": {
      "text/plain": [
       "0.0032592441"
      ]
     },
     "execution_count": 11,
     "metadata": {},
     "output_type": "execute_result"
    }
   ],
   "source": [
    "ell_radius_y"
   ]
  },
  {
   "cell_type": "code",
   "execution_count": 28,
   "metadata": {},
   "outputs": [],
   "source": [
    "import torch\n",
    "import torch.nn as nn\n",
    "from collections import OrderedDict\n",
    "import torch.nn.functional as F\n",
    "from torchdiffeq import odeint\n",
    "from neurodiffeq.solvers import Solver1D\n",
    "from neurodiffeq.monitors import Monitor1D\n",
    "from neurodiffeq.conditions import IVP\n",
    "from neurodiffeq import diff\n",
    "from neurodiffeq.networks import FCNN    # fully-connect neural network\n",
    "from neurodiffeq.networks import SinActv # sin activation\n",
    "import numpy as np"
   ]
  },
  {
   "cell_type": "code",
   "execution_count": 52,
   "metadata": {},
   "outputs": [
    {
     "data": {
      "application/vnd.jupyter.widget-view+json": {
       "model_id": "8f2fa229f2b54955abe4034d5b9f5c7e",
       "version_major": 2,
       "version_minor": 0
      },
      "text/plain": [
       "Training Progress:   0%|          | 0/100 [00:00<?, ?it/s]"
      ]
     },
     "metadata": {},
     "output_type": "display_data"
    },
    {
     "ename": "RuntimeError",
     "evalue": "The size of tensor a (32) must match the size of tensor b (3) at non-singleton dimension 0",
     "output_type": "error",
     "traceback": [
      "\u001b[0;31m---------------------------------------------------------------------------\u001b[0m",
      "\u001b[0;31mRuntimeError\u001b[0m                              Traceback (most recent call last)",
      "\u001b[0;32m/tmp/ipykernel_210652/460706049.py\u001b[0m in \u001b[0;36m<module>\u001b[0;34m\u001b[0m\n\u001b[1;32m     24\u001b[0m ]\n\u001b[1;32m     25\u001b[0m \u001b[0mnet_solver\u001b[0m \u001b[0;34m=\u001b[0m \u001b[0mSolver1D\u001b[0m\u001b[0;34m(\u001b[0m\u001b[0mode_system\u001b[0m\u001b[0;34m=\u001b[0m\u001b[0mexponential\u001b[0m\u001b[0;34m,\u001b[0m\u001b[0mconditions\u001b[0m\u001b[0;34m=\u001b[0m\u001b[0mbound_condition\u001b[0m\u001b[0;34m,\u001b[0m\u001b[0mt_min\u001b[0m \u001b[0;34m=\u001b[0m \u001b[0;36m0.0\u001b[0m\u001b[0;34m,\u001b[0m\u001b[0mt_max\u001b[0m \u001b[0;34m=\u001b[0m \u001b[0;36m2.0\u001b[0m\u001b[0;34m,\u001b[0m\u001b[0mnets\u001b[0m\u001b[0;34m=\u001b[0m\u001b[0mnets_lv\u001b[0m\u001b[0;34m)\u001b[0m\u001b[0;34m\u001b[0m\u001b[0;34m\u001b[0m\u001b[0m\n\u001b[0;32m---> 26\u001b[0;31m \u001b[0mnet_solver\u001b[0m\u001b[0;34m.\u001b[0m\u001b[0mfit\u001b[0m\u001b[0;34m(\u001b[0m\u001b[0mmax_epochs\u001b[0m\u001b[0;34m=\u001b[0m\u001b[0;36m100\u001b[0m\u001b[0;34m,\u001b[0m \u001b[0mcallbacks\u001b[0m\u001b[0;34m=\u001b[0m\u001b[0;34m[\u001b[0m\u001b[0mmonitor_callback\u001b[0m\u001b[0;34m]\u001b[0m\u001b[0;34m)\u001b[0m\u001b[0;34m\u001b[0m\u001b[0;34m\u001b[0m\u001b[0m\n\u001b[0m\u001b[1;32m     27\u001b[0m \u001b[0msolutions\u001b[0m \u001b[0;34m=\u001b[0m \u001b[0mnet_solver\u001b[0m\u001b[0;34m.\u001b[0m\u001b[0mget_solution\u001b[0m\u001b[0;34m(\u001b[0m\u001b[0;34m)\u001b[0m\u001b[0;34m\u001b[0m\u001b[0;34m\u001b[0m\u001b[0m\n\u001b[1;32m     28\u001b[0m \u001b[0mworking_solution\u001b[0m \u001b[0;34m=\u001b[0m \u001b[0msolutions\u001b[0m\u001b[0;34m(\u001b[0m\u001b[0;34m[\u001b[0m\u001b[0;36m1.0\u001b[0m\u001b[0;34m,\u001b[0m\u001b[0;36m1.4\u001b[0m\u001b[0;34m]\u001b[0m\u001b[0;34m)\u001b[0m\u001b[0;34m\u001b[0m\u001b[0;34m\u001b[0m\u001b[0m\n",
      "\u001b[0;32m~/anaconda3/lib/python3.8/site-packages/neurodiffeq/solvers.py\u001b[0m in \u001b[0;36mfit\u001b[0;34m(self, max_epochs, callbacks, tqdm_file, **kwargs)\u001b[0m\n\u001b[1;32m    481\u001b[0m             \u001b[0;31m# register local epoch (starting from 1 instead of 0) so it can be accessed by callbacks\u001b[0m\u001b[0;34m\u001b[0m\u001b[0;34m\u001b[0m\u001b[0;34m\u001b[0m\u001b[0m\n\u001b[1;32m    482\u001b[0m             \u001b[0mself\u001b[0m\u001b[0;34m.\u001b[0m\u001b[0mlocal_epoch\u001b[0m \u001b[0;34m=\u001b[0m \u001b[0mlocal_epoch\u001b[0m \u001b[0;34m+\u001b[0m \u001b[0;36m1\u001b[0m\u001b[0;34m\u001b[0m\u001b[0;34m\u001b[0m\u001b[0m\n\u001b[0;32m--> 483\u001b[0;31m             \u001b[0mself\u001b[0m\u001b[0;34m.\u001b[0m\u001b[0mrun_train_epoch\u001b[0m\u001b[0;34m(\u001b[0m\u001b[0;34m)\u001b[0m\u001b[0;34m\u001b[0m\u001b[0;34m\u001b[0m\u001b[0m\n\u001b[0m\u001b[1;32m    484\u001b[0m             \u001b[0mself\u001b[0m\u001b[0;34m.\u001b[0m\u001b[0mrun_valid_epoch\u001b[0m\u001b[0;34m(\u001b[0m\u001b[0;34m)\u001b[0m\u001b[0;34m\u001b[0m\u001b[0;34m\u001b[0m\u001b[0m\n\u001b[1;32m    485\u001b[0m \u001b[0;34m\u001b[0m\u001b[0m\n",
      "\u001b[0;32m~/anaconda3/lib/python3.8/site-packages/neurodiffeq/solvers.py\u001b[0m in \u001b[0;36mrun_train_epoch\u001b[0;34m(self)\u001b[0m\n\u001b[1;32m    416\u001b[0m     \u001b[0;32mdef\u001b[0m \u001b[0mrun_train_epoch\u001b[0m\u001b[0;34m(\u001b[0m\u001b[0mself\u001b[0m\u001b[0;34m)\u001b[0m\u001b[0;34m:\u001b[0m\u001b[0;34m\u001b[0m\u001b[0;34m\u001b[0m\u001b[0m\n\u001b[1;32m    417\u001b[0m         \u001b[0;34mr\"\"\"Run a training epoch, update history, and perform gradient descent.\"\"\"\u001b[0m\u001b[0;34m\u001b[0m\u001b[0;34m\u001b[0m\u001b[0m\n\u001b[0;32m--> 418\u001b[0;31m         \u001b[0mself\u001b[0m\u001b[0;34m.\u001b[0m\u001b[0m_run_epoch\u001b[0m\u001b[0;34m(\u001b[0m\u001b[0;34m'train'\u001b[0m\u001b[0;34m)\u001b[0m\u001b[0;34m\u001b[0m\u001b[0;34m\u001b[0m\u001b[0m\n\u001b[0m\u001b[1;32m    419\u001b[0m \u001b[0;34m\u001b[0m\u001b[0m\n\u001b[1;32m    420\u001b[0m     \u001b[0;32mdef\u001b[0m \u001b[0mrun_valid_epoch\u001b[0m\u001b[0;34m(\u001b[0m\u001b[0mself\u001b[0m\u001b[0;34m)\u001b[0m\u001b[0;34m:\u001b[0m\u001b[0;34m\u001b[0m\u001b[0;34m\u001b[0m\u001b[0m\n",
      "\u001b[0;32m~/anaconda3/lib/python3.8/site-packages/neurodiffeq/solvers.py\u001b[0m in \u001b[0;36m_run_epoch\u001b[0;34m(self, key)\u001b[0m\n\u001b[1;32m    395\u001b[0m                     \u001b[0;31m# Otherwise, only perform backward propagation.\u001b[0m\u001b[0;34m\u001b[0m\u001b[0;34m\u001b[0m\u001b[0;34m\u001b[0m\u001b[0m\n\u001b[1;32m    396\u001b[0m                     \u001b[0;31m# Optimizer step will be performed only once outside the for-loop (i.e. after all batches).\u001b[0m\u001b[0;34m\u001b[0m\u001b[0;34m\u001b[0m\u001b[0;34m\u001b[0m\u001b[0m\n\u001b[0;32m--> 397\u001b[0;31m                     \u001b[0mclosure\u001b[0m\u001b[0;34m(\u001b[0m\u001b[0mzero_grad\u001b[0m\u001b[0;34m=\u001b[0m\u001b[0;32mFalse\u001b[0m\u001b[0;34m)\u001b[0m\u001b[0;34m\u001b[0m\u001b[0;34m\u001b[0m\u001b[0m\n\u001b[0m\u001b[1;32m    398\u001b[0m                 \u001b[0mepoch_loss\u001b[0m \u001b[0;34m+=\u001b[0m \u001b[0mbatch_loss\u001b[0m\u001b[0;34m\u001b[0m\u001b[0;34m\u001b[0m\u001b[0m\n\u001b[1;32m    399\u001b[0m             \u001b[0;32melse\u001b[0m\u001b[0;34m:\u001b[0m\u001b[0;34m\u001b[0m\u001b[0;34m\u001b[0m\u001b[0m\n",
      "\u001b[0;32m~/anaconda3/lib/python3.8/site-packages/neurodiffeq/solvers.py\u001b[0m in \u001b[0;36mclosure\u001b[0;34m(zero_grad)\u001b[0m\n\u001b[1;32m    364\u001b[0m                 \u001b[0;32mif\u001b[0m \u001b[0mkey\u001b[0m \u001b[0;34m==\u001b[0m \u001b[0;34m'train'\u001b[0m \u001b[0;32mand\u001b[0m \u001b[0mzero_grad\u001b[0m\u001b[0;34m:\u001b[0m\u001b[0;34m\u001b[0m\u001b[0;34m\u001b[0m\u001b[0m\n\u001b[1;32m    365\u001b[0m                     \u001b[0mself\u001b[0m\u001b[0;34m.\u001b[0m\u001b[0moptimizer\u001b[0m\u001b[0;34m.\u001b[0m\u001b[0mzero_grad\u001b[0m\u001b[0;34m(\u001b[0m\u001b[0;34m)\u001b[0m\u001b[0;34m\u001b[0m\u001b[0;34m\u001b[0m\u001b[0m\n\u001b[0;32m--> 366\u001b[0;31m                 funcs = [\n\u001b[0m\u001b[1;32m    367\u001b[0m                     \u001b[0mself\u001b[0m\u001b[0;34m.\u001b[0m\u001b[0mcompute_func_val\u001b[0m\u001b[0;34m(\u001b[0m\u001b[0mn\u001b[0m\u001b[0;34m,\u001b[0m \u001b[0mc\u001b[0m\u001b[0;34m,\u001b[0m \u001b[0;34m*\u001b[0m\u001b[0mbatch\u001b[0m\u001b[0;34m)\u001b[0m \u001b[0;32mfor\u001b[0m \u001b[0mn\u001b[0m\u001b[0;34m,\u001b[0m \u001b[0mc\u001b[0m \u001b[0;32min\u001b[0m \u001b[0mzip\u001b[0m\u001b[0;34m(\u001b[0m\u001b[0mself\u001b[0m\u001b[0;34m.\u001b[0m\u001b[0mnets\u001b[0m\u001b[0;34m,\u001b[0m \u001b[0mself\u001b[0m\u001b[0;34m.\u001b[0m\u001b[0mconditions\u001b[0m\u001b[0;34m)\u001b[0m\u001b[0;34m\u001b[0m\u001b[0;34m\u001b[0m\u001b[0m\n\u001b[1;32m    368\u001b[0m                 ]\n",
      "\u001b[0;32m~/anaconda3/lib/python3.8/site-packages/neurodiffeq/solvers.py\u001b[0m in \u001b[0;36m<listcomp>\u001b[0;34m(.0)\u001b[0m\n\u001b[1;32m    365\u001b[0m                     \u001b[0mself\u001b[0m\u001b[0;34m.\u001b[0m\u001b[0moptimizer\u001b[0m\u001b[0;34m.\u001b[0m\u001b[0mzero_grad\u001b[0m\u001b[0;34m(\u001b[0m\u001b[0;34m)\u001b[0m\u001b[0;34m\u001b[0m\u001b[0;34m\u001b[0m\u001b[0m\n\u001b[1;32m    366\u001b[0m                 funcs = [\n\u001b[0;32m--> 367\u001b[0;31m                     \u001b[0mself\u001b[0m\u001b[0;34m.\u001b[0m\u001b[0mcompute_func_val\u001b[0m\u001b[0;34m(\u001b[0m\u001b[0mn\u001b[0m\u001b[0;34m,\u001b[0m \u001b[0mc\u001b[0m\u001b[0;34m,\u001b[0m \u001b[0;34m*\u001b[0m\u001b[0mbatch\u001b[0m\u001b[0;34m)\u001b[0m \u001b[0;32mfor\u001b[0m \u001b[0mn\u001b[0m\u001b[0;34m,\u001b[0m \u001b[0mc\u001b[0m \u001b[0;32min\u001b[0m \u001b[0mzip\u001b[0m\u001b[0;34m(\u001b[0m\u001b[0mself\u001b[0m\u001b[0;34m.\u001b[0m\u001b[0mnets\u001b[0m\u001b[0;34m,\u001b[0m \u001b[0mself\u001b[0m\u001b[0;34m.\u001b[0m\u001b[0mconditions\u001b[0m\u001b[0;34m)\u001b[0m\u001b[0;34m\u001b[0m\u001b[0;34m\u001b[0m\u001b[0m\n\u001b[0m\u001b[1;32m    368\u001b[0m                 ]\n\u001b[1;32m    369\u001b[0m \u001b[0;34m\u001b[0m\u001b[0m\n",
      "\u001b[0;32m~/anaconda3/lib/python3.8/site-packages/neurodiffeq/solvers.py\u001b[0m in \u001b[0;36mcompute_func_val\u001b[0;34m(self, net, cond, *coordinates)\u001b[0m\n\u001b[1;32m    270\u001b[0m         \u001b[0;34m:\u001b[0m\u001b[0mrtype\u001b[0m\u001b[0;34m:\u001b[0m \u001b[0mtorch\u001b[0m\u001b[0;34m.\u001b[0m\u001b[0mTensor\u001b[0m\u001b[0;34m\u001b[0m\u001b[0;34m\u001b[0m\u001b[0m\n\u001b[1;32m    271\u001b[0m         \"\"\"\n\u001b[0;32m--> 272\u001b[0;31m         \u001b[0;32mreturn\u001b[0m \u001b[0mcond\u001b[0m\u001b[0;34m.\u001b[0m\u001b[0menforce\u001b[0m\u001b[0;34m(\u001b[0m\u001b[0mnet\u001b[0m\u001b[0;34m,\u001b[0m \u001b[0;34m*\u001b[0m\u001b[0mcoordinates\u001b[0m\u001b[0;34m)\u001b[0m\u001b[0;34m\u001b[0m\u001b[0;34m\u001b[0m\u001b[0m\n\u001b[0m\u001b[1;32m    273\u001b[0m \u001b[0;34m\u001b[0m\u001b[0m\n\u001b[1;32m    274\u001b[0m     \u001b[0;32mdef\u001b[0m \u001b[0m_update_history\u001b[0m\u001b[0;34m(\u001b[0m\u001b[0mself\u001b[0m\u001b[0;34m,\u001b[0m \u001b[0mvalue\u001b[0m\u001b[0;34m,\u001b[0m \u001b[0mmetric_type\u001b[0m\u001b[0;34m,\u001b[0m \u001b[0mkey\u001b[0m\u001b[0;34m)\u001b[0m\u001b[0;34m:\u001b[0m\u001b[0;34m\u001b[0m\u001b[0;34m\u001b[0m\u001b[0m\n",
      "\u001b[0;32m~/anaconda3/lib/python3.8/site-packages/neurodiffeq/conditions.py\u001b[0m in \u001b[0;36menforce\u001b[0;34m(self, net, *coordinates)\u001b[0m\n\u001b[1;32m     55\u001b[0m             \u001b[0mnetwork_output\u001b[0m \u001b[0;34m=\u001b[0m \u001b[0mnetwork_output\u001b[0m\u001b[0;34m[\u001b[0m\u001b[0;34m:\u001b[0m\u001b[0;34m,\u001b[0m \u001b[0mself\u001b[0m\u001b[0;34m.\u001b[0m\u001b[0mith_unit\u001b[0m\u001b[0;34m]\u001b[0m\u001b[0;34m.\u001b[0m\u001b[0mview\u001b[0m\u001b[0;34m(\u001b[0m\u001b[0;34m-\u001b[0m\u001b[0;36m1\u001b[0m\u001b[0;34m,\u001b[0m \u001b[0;36m1\u001b[0m\u001b[0;34m)\u001b[0m\u001b[0;34m\u001b[0m\u001b[0;34m\u001b[0m\u001b[0m\n\u001b[1;32m     56\u001b[0m         \u001b[0;31m# parameterize the raw output and return\u001b[0m\u001b[0;34m\u001b[0m\u001b[0;34m\u001b[0m\u001b[0;34m\u001b[0m\u001b[0m\n\u001b[0;32m---> 57\u001b[0;31m         \u001b[0;32mreturn\u001b[0m \u001b[0mself\u001b[0m\u001b[0;34m.\u001b[0m\u001b[0mparameterize\u001b[0m\u001b[0;34m(\u001b[0m\u001b[0mnetwork_output\u001b[0m\u001b[0;34m,\u001b[0m \u001b[0;34m*\u001b[0m\u001b[0mcoordinates\u001b[0m\u001b[0;34m)\u001b[0m\u001b[0;34m\u001b[0m\u001b[0;34m\u001b[0m\u001b[0m\n\u001b[0m\u001b[1;32m     58\u001b[0m \u001b[0;34m\u001b[0m\u001b[0m\n\u001b[1;32m     59\u001b[0m     \u001b[0;32mdef\u001b[0m \u001b[0mset_impose_on\u001b[0m\u001b[0;34m(\u001b[0m\u001b[0mself\u001b[0m\u001b[0;34m,\u001b[0m \u001b[0mith_unit\u001b[0m\u001b[0;34m)\u001b[0m\u001b[0;34m:\u001b[0m\u001b[0;34m\u001b[0m\u001b[0;34m\u001b[0m\u001b[0m\n",
      "\u001b[0;32m~/anaconda3/lib/python3.8/site-packages/neurodiffeq/conditions.py\u001b[0m in \u001b[0;36mparameterize\u001b[0;34m(self, output_tensor, t)\u001b[0m\n\u001b[1;32m    203\u001b[0m         \"\"\"\n\u001b[1;32m    204\u001b[0m         \u001b[0;32mif\u001b[0m \u001b[0mself\u001b[0m\u001b[0;34m.\u001b[0m\u001b[0mu_0_prime\u001b[0m \u001b[0;32mis\u001b[0m \u001b[0;32mNone\u001b[0m\u001b[0;34m:\u001b[0m\u001b[0;34m\u001b[0m\u001b[0;34m\u001b[0m\u001b[0m\n\u001b[0;32m--> 205\u001b[0;31m             \u001b[0;32mreturn\u001b[0m \u001b[0mself\u001b[0m\u001b[0;34m.\u001b[0m\u001b[0mu_0\u001b[0m \u001b[0;34m+\u001b[0m \u001b[0;34m(\u001b[0m\u001b[0;36m1\u001b[0m \u001b[0;34m-\u001b[0m \u001b[0mtorch\u001b[0m\u001b[0;34m.\u001b[0m\u001b[0mexp\u001b[0m\u001b[0;34m(\u001b[0m\u001b[0;34m-\u001b[0m\u001b[0mt\u001b[0m \u001b[0;34m+\u001b[0m \u001b[0mself\u001b[0m\u001b[0;34m.\u001b[0m\u001b[0mt_0\u001b[0m\u001b[0;34m)\u001b[0m\u001b[0;34m)\u001b[0m \u001b[0;34m*\u001b[0m \u001b[0moutput_tensor\u001b[0m\u001b[0;34m\u001b[0m\u001b[0;34m\u001b[0m\u001b[0m\n\u001b[0m\u001b[1;32m    206\u001b[0m         \u001b[0;32melse\u001b[0m\u001b[0;34m:\u001b[0m\u001b[0;34m\u001b[0m\u001b[0;34m\u001b[0m\u001b[0m\n\u001b[1;32m    207\u001b[0m             \u001b[0;32mreturn\u001b[0m \u001b[0mself\u001b[0m\u001b[0;34m.\u001b[0m\u001b[0mu_0\u001b[0m \u001b[0;34m+\u001b[0m \u001b[0;34m(\u001b[0m\u001b[0mt\u001b[0m \u001b[0;34m-\u001b[0m \u001b[0mself\u001b[0m\u001b[0;34m.\u001b[0m\u001b[0mt_0\u001b[0m\u001b[0;34m)\u001b[0m \u001b[0;34m*\u001b[0m \u001b[0mself\u001b[0m\u001b[0;34m.\u001b[0m\u001b[0mu_0_prime\u001b[0m \u001b[0;34m+\u001b[0m \u001b[0;34m(\u001b[0m\u001b[0;34m(\u001b[0m\u001b[0;36m1\u001b[0m \u001b[0;34m-\u001b[0m \u001b[0mtorch\u001b[0m\u001b[0;34m.\u001b[0m\u001b[0mexp\u001b[0m\u001b[0;34m(\u001b[0m\u001b[0;34m-\u001b[0m\u001b[0mt\u001b[0m \u001b[0;34m+\u001b[0m \u001b[0mself\u001b[0m\u001b[0;34m.\u001b[0m\u001b[0mt_0\u001b[0m\u001b[0;34m)\u001b[0m\u001b[0;34m)\u001b[0m \u001b[0;34m**\u001b[0m \u001b[0;36m2\u001b[0m\u001b[0;34m)\u001b[0m \u001b[0;34m*\u001b[0m \u001b[0moutput_tensor\u001b[0m\u001b[0;34m\u001b[0m\u001b[0;34m\u001b[0m\u001b[0m\n",
      "\u001b[0;31mRuntimeError\u001b[0m: The size of tensor a (32) must match the size of tensor b (3) at non-singleton dimension 0"
     ]
    },
    {
     "data": {
      "image/png": "[encoded data removed]",
      "text/plain": [
       "<Figure size 3000x800 with 3 Axes>"
      ]
     },
     "metadata": {},
     "output_type": "display_data"
    }
   ],
   "source": [
    "t_0 = torch.tensor(\n",
    "     [\n",
    "                [ 0,  0,  0],\n",
    "                [ 0, 0,  0],\n",
    "                [ 0,  0,  0],\n",
    "            ],\n",
    "        ).float().view(3, 3)\n",
    "u_0 = torch.tensor(\n",
    "     [\n",
    "                [ 0,  1,  0],\n",
    "                [ 1, -4,  1],\n",
    "                [ 0,  1,  0],\n",
    "            ],\n",
    "        ).float().view(3, 3)\n",
    "t_interval = torch.tensor(\n",
    "     [0.1,0.2,0.3,0.5,1.0,1.5,2.0],\n",
    "        ).float()\n",
    "exponential = lambda u, t: [diff(u, t) + u]\n",
    "monitor = Monitor1D(t_min=0.0, t_max=2.0, check_every=100)\n",
    "monitor_callback = monitor.to_callback()\n",
    "bound_condition = [IVP(t_0 = 0.0, u_0 = 0.0)]\n",
    "nets_lv = [\n",
    "    FCNN(n_input_units=1, n_output_units=1, hidden_units=(32, 32), actv=SinActv)\n",
    "]\n",
    "net_solver = Solver1D(ode_system=exponential,conditions=bound_condition,t_min = 0.0,t_max = 2.0,nets=nets_lv)\n",
    "net_solver.fit(max_epochs=100, callbacks=[monitor_callback])\n",
    "solutions = net_solver.get_solution()\n",
    "working_solution = solutions([1.0,1.4])\n"
   ]
  },
  {
   "cell_type": "code",
   "execution_count": 51,
   "metadata": {},
   "outputs": [
    {
     "data": {
      "text/plain": [
       "tensor([0.3966, 0.2635], grad_fn=<ReshapeAliasBackward0>)"
      ]
     },
     "execution_count": 51,
     "metadata": {},
     "output_type": "execute_result"
    }
   ],
   "source": [
    "working_solution"
   ]
  },
  {
   "cell_type": "code",
   "execution_count": 32,
   "metadata": {},
   "outputs": [
    {
     "data": {
      "application/vnd.jupyter.widget-view+json": {
       "model_id": "6bc90f9a99b641809ee219856d84185b",
       "version_major": 2,
       "version_minor": 0
      },
      "text/plain": [
       "Training Progress:   0%|          | 0/3000 [00:00<?, ?it/s]"
      ]
     },
     "metadata": {},
     "output_type": "display_data"
    },
    {
     "data": {
      "image/png": "[encoded data removed]",
      "text/plain": [
       "<Figure size 3000x800 with 3 Axes>"
      ]
     },
     "metadata": {},
     "output_type": "display_data"
    }
   ],
   "source": [
    "from neurodiffeq.solvers import Solver1D\n",
    "alpha, beta, delta, gamma = 1, 1, 1, 1\n",
    "lotka_volterra = lambda u, t : [ diff(u, t) - (alpha*u  - beta*u*v),\n",
    "                                    diff(v, t) - (delta*u*v - gamma*v), ]\n",
    "# specify the initial conditions\n",
    "init_vals_lv = [\n",
    "    IVP(t_0=0.0, u_0=1.5),  # 1.5 is the value of u at t_0 = 0.0\n",
    "    IVP(t_0=0.0, u_0=1.0),  # 1.0 is the value of v at t_0 = 0.0\n",
    "]\n",
    "\n",
    "# specify the network to be used to approximate each dependent variable\n",
    "# the input units and output units default to 1 for FCNN\n",
    "nets_lv = [\n",
    "    FCNN(n_input_units=1, n_output_units=1, hidden_units=(32, 32), actv=SinActv),\n",
    "    FCNN(n_input_units=1, n_output_units=1, hidden_units=(32, 32), actv=SinActv)\n",
    "]\n",
    "\n",
    "# Let's create a monitor first\n",
    "monitor = Monitor1D(t_min=0.0, t_max=12.0, check_every=100)\n",
    "# ... and turn it into a Callback instance\n",
    "monitor_callback = monitor.to_callback()\n",
    "\n",
    "# Instantiate a solver instance\n",
    "solver = Solver1D(\n",
    "    ode_system=lotka_volterra,\n",
    "    conditions=init_vals_lv,\n",
    "    t_min=0.1,\n",
    "    t_max=12.0,\n",
    "    nets=nets_lv,\n",
    ")\n",
    "\n",
    "# Fit the solver (i.e., train the neural networks)\n",
    "solver.fit(max_epochs=3000, callbacks=[monitor_callback])\n",
    "\n",
    "# Get the solution\n",
    "solution_lv = solver.get_solution()"
   ]
  },
  {
   "cell_type": "code",
   "execution_count": 33,
   "metadata": {},
   "outputs": [
    {
     "data": {
      "text/plain": [
       "[tensor([1.5000, 1.4999, 1.4981, 1.4947, 1.4897, 1.4833, 1.4754, 1.4662, 1.4557,\n",
       "         1.4439, 1.4311, 1.4171, 1.4021, 1.3862, 1.3695, 1.3520, 1.3338, 1.3149,\n",
       "         1.2956, 1.2757, 1.2555, 1.2349, 1.2141, 1.1931, 1.1720, 1.1509, 1.1297,\n",
       "         1.1086, 1.0877, 1.0669, 1.0463, 1.0260, 1.0060, 0.9864, 0.9672, 0.9484,\n",
       "         0.9300, 0.9122, 0.8948, 0.8780, 0.8617, 0.8460, 0.8308, 0.8163, 0.8023,\n",
       "         0.7889, 0.7762, 0.7640, 0.7524, 0.7415],\n",
       "        grad_fn=<ReshapeAliasBackward0>),\n",
       " tensor([1.0000, 1.0204, 1.0415, 1.0630, 1.0849, 1.1070, 1.1293, 1.1516, 1.1738,\n",
       "         1.1959, 1.2177, 1.2391, 1.2600, 1.2805, 1.3002, 1.3193, 1.3376, 1.3551,\n",
       "         1.3716, 1.3872, 1.4018, 1.4154, 1.4279, 1.4393, 1.4495, 1.4586, 1.4665,\n",
       "         1.4732, 1.4787, 1.4830, 1.4861, 1.4881, 1.4889, 1.4886, 1.4871, 1.4845,\n",
       "         1.4809, 1.4762, 1.4705, 1.4638, 1.4562, 1.4477, 1.4384, 1.4283, 1.4174,\n",
       "         1.4058, 1.3935, 1.3806, 1.3672, 1.3532],\n",
       "        grad_fn=<ReshapeAliasBackward0>)]"
      ]
     },
     "execution_count": 33,
     "metadata": {},
     "output_type": "execute_result"
    }
   ],
   "source": [
    "solution_lv(np.linspace(0, 2.0, 50))"
   ]
  },
  {
   "cell_type": "code",
   "execution_count": null,
   "metadata": {},
   "outputs": [
    {
     "ename": "RuntimeError",
     "evalue": "Mismatch in shape: grad_output[0] has a shape of torch.Size([2, 2]) and output[0] has a shape of torch.Size([2, 3]).",
     "output_type": "error",
     "traceback": [
      "\u001b[0;31m---------------------------------------------------------------------------\u001b[0m",
      "\u001b[0;31mRuntimeError\u001b[0m                              Traceback (most recent call last)",
      "\u001b[0;32m/tmp/ipykernel_38891/409342516.py\u001b[0m in \u001b[0;36m<module>\u001b[0;34m\u001b[0m\n\u001b[1;32m      4\u001b[0m \u001b[0my\u001b[0m \u001b[0;34m=\u001b[0m \u001b[0;34m(\u001b[0m\u001b[0mx\u001b[0m\u001b[0;34m[\u001b[0m\u001b[0;34m:\u001b[0m\u001b[0;34m,\u001b[0m\u001b[0;36m0\u001b[0m\u001b[0;34m]\u001b[0m\u001b[0;34m+\u001b[0m\u001b[0;36m2\u001b[0m\u001b[0;34m*\u001b[0m\u001b[0mx\u001b[0m\u001b[0;34m[\u001b[0m\u001b[0;34m:\u001b[0m\u001b[0;34m,\u001b[0m\u001b[0;36m1\u001b[0m\u001b[0;34m]\u001b[0m\u001b[0;34m+\u001b[0m\u001b[0mx\u001b[0m\u001b[0;34m[\u001b[0m\u001b[0;34m:\u001b[0m\u001b[0;34m,\u001b[0m\u001b[0;36m2\u001b[0m\u001b[0;34m]\u001b[0m\u001b[0;34m)\u001b[0m\u001b[0;34m**\u001b[0m\u001b[0;36m3\u001b[0m\u001b[0;34m\u001b[0m\u001b[0;34m\u001b[0m\u001b[0m\n\u001b[1;32m      5\u001b[0m \u001b[0mgrad_y\u001b[0m \u001b[0;34m=\u001b[0m \u001b[0mtorch\u001b[0m\u001b[0;34m.\u001b[0m\u001b[0mautograd\u001b[0m\u001b[0;34m.\u001b[0m\u001b[0mgrad\u001b[0m\u001b[0;34m(\u001b[0m\u001b[0my\u001b[0m\u001b[0;34m,\u001b[0m\u001b[0mx\u001b[0m\u001b[0;34m,\u001b[0m\u001b[0mtorch\u001b[0m\u001b[0;34m.\u001b[0m\u001b[0mones\u001b[0m\u001b[0;34m(\u001b[0m\u001b[0my\u001b[0m\u001b[0;34m.\u001b[0m\u001b[0msize\u001b[0m\u001b[0;34m(\u001b[0m\u001b[0;34m)\u001b[0m\u001b[0;34m)\u001b[0m\u001b[0;34m,\u001b[0m\u001b[0mretain_graph\u001b[0m\u001b[0;34m=\u001b[0m\u001b[0;32mTrue\u001b[0m\u001b[0;34m,\u001b[0m\u001b[0mcreate_graph\u001b[0m\u001b[0;34m=\u001b[0m\u001b[0;32mTrue\u001b[0m\u001b[0;34m)\u001b[0m\u001b[0;34m\u001b[0m\u001b[0;34m\u001b[0m\u001b[0m\n\u001b[0;32m----> 6\u001b[0;31m \u001b[0mtorch\u001b[0m\u001b[0;34m.\u001b[0m\u001b[0mautograd\u001b[0m\u001b[0;34m.\u001b[0m\u001b[0mgrad\u001b[0m\u001b[0;34m(\u001b[0m\u001b[0mgrad_y\u001b[0m\u001b[0;34m,\u001b[0m\u001b[0mx\u001b[0m\u001b[0;34m,\u001b[0m\u001b[0mtorch\u001b[0m\u001b[0;34m.\u001b[0m\u001b[0mstack\u001b[0m\u001b[0;34m(\u001b[0m\u001b[0;34m(\u001b[0m\u001b[0mtorch\u001b[0m\u001b[0;34m.\u001b[0m\u001b[0mzeros\u001b[0m\u001b[0;34m(\u001b[0m\u001b[0my\u001b[0m\u001b[0;34m.\u001b[0m\u001b[0msize\u001b[0m\u001b[0;34m(\u001b[0m\u001b[0;34m)\u001b[0m\u001b[0;34m)\u001b[0m\u001b[0;34m,\u001b[0m\u001b[0mtorch\u001b[0m\u001b[0;34m.\u001b[0m\u001b[0mones\u001b[0m\u001b[0;34m(\u001b[0m\u001b[0my\u001b[0m\u001b[0;34m.\u001b[0m\u001b[0msize\u001b[0m\u001b[0;34m(\u001b[0m\u001b[0;34m)\u001b[0m\u001b[0;34m)\u001b[0m\u001b[0;34m)\u001b[0m\u001b[0;34m,\u001b[0m\u001b[0mdim\u001b[0m\u001b[0;34m=\u001b[0m\u001b[0;36m1\u001b[0m\u001b[0;34m)\u001b[0m\u001b[0;34m)\u001b[0m\u001b[0;34m\u001b[0m\u001b[0;34m\u001b[0m\u001b[0m\n\u001b[0m",
      "\u001b[0;32m~/anaconda3/lib/python3.8/site-packages/torch/autograd/__init__.py\u001b[0m in \u001b[0;36mgrad\u001b[0;34m(outputs, inputs, grad_outputs, retain_graph, create_graph, only_inputs, allow_unused, is_grads_batched)\u001b[0m\n\u001b[1;32m    283\u001b[0m \u001b[0;34m\u001b[0m\u001b[0m\n\u001b[1;32m    284\u001b[0m     \u001b[0mgrad_outputs_\u001b[0m \u001b[0;34m=\u001b[0m \u001b[0m_tensor_or_tensors_to_tuple\u001b[0m\u001b[0;34m(\u001b[0m\u001b[0mgrad_outputs\u001b[0m\u001b[0;34m,\u001b[0m \u001b[0mlen\u001b[0m\u001b[0;34m(\u001b[0m\u001b[0mt_outputs\u001b[0m\u001b[0;34m)\u001b[0m\u001b[0;34m)\u001b[0m\u001b[0;34m\u001b[0m\u001b[0;34m\u001b[0m\u001b[0m\n\u001b[0;32m--> 285\u001b[0;31m     \u001b[0mgrad_outputs_\u001b[0m \u001b[0;34m=\u001b[0m \u001b[0m_make_grads\u001b[0m\u001b[0;34m(\u001b[0m\u001b[0mt_outputs\u001b[0m\u001b[0;34m,\u001b[0m \u001b[0mgrad_outputs_\u001b[0m\u001b[0;34m,\u001b[0m \u001b[0mis_grads_batched\u001b[0m\u001b[0;34m=\u001b[0m\u001b[0mis_grads_batched\u001b[0m\u001b[0;34m)\u001b[0m\u001b[0;34m\u001b[0m\u001b[0;34m\u001b[0m\u001b[0m\n\u001b[0m\u001b[1;32m    286\u001b[0m \u001b[0;34m\u001b[0m\u001b[0m\n\u001b[1;32m    287\u001b[0m     \u001b[0;32mif\u001b[0m \u001b[0mretain_graph\u001b[0m \u001b[0;32mis\u001b[0m \u001b[0;32mNone\u001b[0m\u001b[0;34m:\u001b[0m\u001b[0;34m\u001b[0m\u001b[0;34m\u001b[0m\u001b[0m\n",
      "\u001b[0;32m~/anaconda3/lib/python3.8/site-packages/torch/autograd/__init__.py\u001b[0m in \u001b[0;36m_make_grads\u001b[0;34m(outputs, grads, is_grads_batched)\u001b[0m\n\u001b[1;32m     66\u001b[0m                                        \"batched, consider using vmap.\")\n\u001b[1;32m     67\u001b[0m                 \u001b[0;32melse\u001b[0m\u001b[0;34m:\u001b[0m\u001b[0;34m\u001b[0m\u001b[0;34m\u001b[0m\u001b[0m\n\u001b[0;32m---> 68\u001b[0;31m                     raise RuntimeError(\"Mismatch in shape: grad_output[\"\n\u001b[0m\u001b[1;32m     69\u001b[0m                                        \u001b[0;34m+\u001b[0m \u001b[0mstr\u001b[0m\u001b[0;34m(\u001b[0m\u001b[0mgrads\u001b[0m\u001b[0;34m.\u001b[0m\u001b[0mindex\u001b[0m\u001b[0;34m(\u001b[0m\u001b[0mgrad\u001b[0m\u001b[0;34m)\u001b[0m\u001b[0;34m)\u001b[0m \u001b[0;34m+\u001b[0m \u001b[0;34m\"] has a shape of \"\u001b[0m\u001b[0;34m\u001b[0m\u001b[0;34m\u001b[0m\u001b[0m\n\u001b[1;32m     70\u001b[0m                                        \u001b[0;34m+\u001b[0m \u001b[0mstr\u001b[0m\u001b[0;34m(\u001b[0m\u001b[0mgrad_shape\u001b[0m\u001b[0;34m)\u001b[0m \u001b[0;34m+\u001b[0m \u001b[0;34m\" and output[\"\u001b[0m\u001b[0;34m\u001b[0m\u001b[0;34m\u001b[0m\u001b[0m\n",
      "\u001b[0;31mRuntimeError\u001b[0m: Mismatch in shape: grad_output[0] has a shape of torch.Size([2, 2]) and output[0] has a shape of torch.Size([2, 3])."
     ]
    }
   ],
   "source": [
    "import torch\n",
    "\n",
    "x = torch.tensor([[1.,2.,3.],[4.,5.,6.]]).float().requires_grad_(True)\n",
    "y = (x[:,0]+2*x[:,1]+x[:,2])**3\n",
    "grad_y = torch.autograd.grad(y,x,torch.ones(y.size()),retain_graph=True,create_graph=True)\n",
    "torch.autograd.grad(grad_y,x,torch.stack((torch.zeros(y.size()),torch.zeros(y.size()),torch.ones(y.size())),dim=1))"
   ]
  },
  {
   "cell_type": "code",
   "execution_count": 13,
   "metadata": {},
   "outputs": [
    {
     "data": {
      "text/plain": [
       "False"
      ]
     },
     "execution_count": 13,
     "metadata": {},
     "output_type": "execute_result"
    }
   ],
   "source": [
    "import torch\n",
    "torch.cuda.is_available()"
   ]
  },
  {
   "cell_type": "code",
   "execution_count": 7,
   "metadata": {},
   "outputs": [
    {
     "data": {
      "text/plain": [
       "16.147276486997296"
      ]
     },
     "execution_count": 7,
     "metadata": {},
     "output_type": "execute_result"
    }
   ],
   "source": [
    "400**(26/56)"
   ]
  },
  {
   "cell_type": "code",
   "execution_count": 22,
   "metadata": {},
   "outputs": [
    {
     "data": {
      "text/plain": [
       "tensor([[1., 1., 0.],\n",
       "        [1., 1., 0.]])"
      ]
     },
     "execution_count": 22,
     "metadata": {},
     "output_type": "execute_result"
    }
   ],
   "source": [
    "torch.stack((torch.ones(y.size()),torch.ones(y.size()),torch.zeros(y.size())),dim=1)"
   ]
  },
  {
   "cell_type": "code",
   "execution_count": 5,
   "metadata": {},
   "outputs": [
    {
     "name": "stdout",
     "output_type": "stream",
     "text": [
      "14\n"
     ]
    }
   ],
   "source": [
    "import torch\n",
    "checkpoint = torch.load('./checkpoint/ckpt_ns_1600_320_25_0.100.pth')\n",
    "print(checkpoint['epoch'])\n",
    "#print('epoch %d loss: %.6f, D_1: %.6f, D_2:%.6f' %(checkpoint['epoch'],checkpoint['test_loss'],checkpoint['D_1'],checkpoint['D_2']))"
   ]
  }
 ],
 "metadata": {
  "kernelspec": {
   "display_name": "Python 3.8.13 ('base')",
   "language": "python",
   "name": "python3"
  },
  "language_info": {
   "codemirror_mode": {
    "name": "ipython",
    "version": 3
   },
   "file_extension": ".py",
   "mimetype": "text/x-python",
   "name": "python",
   "nbconvert_exporter": "python",
   "pygments_lexer": "ipython3",
   "version": "3.8.13"
  },
  "orig_nbformat": 4,
  "vscode": {
   "interpreter": {
    "hash": "9c375db390b3ea304dc8409faa42362f8f699e5fa047a7d26d8a38264e807ed2"
   }
  }
 },
 "nbformat": 4,
 "nbformat_minor": 2
}
