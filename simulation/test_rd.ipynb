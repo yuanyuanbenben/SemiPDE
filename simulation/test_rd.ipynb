{
 "cells": [
  {
   "cell_type": "code",
   "execution_count": 22,
   "metadata": {},
   "outputs": [
    {
     "name": "stderr",
     "output_type": "stream",
     "text": [
      "/tmp/ipykernel_99572/60590436.py:17: FutureWarning: You are using `torch.load` with `weights_only=False` (the current default value), which uses the default pickle module implicitly. It is possible to construct malicious pickle data which will execute arbitrary code during unpickling (See https://github.com/pytorch/pytorch/blob/main/SECURITY.md#untrusted-models for more details). In a future release, the default value for `weights_only` will be flipped to `True`. This limits the functions that could be executed during unpickling. Arbitrary objects will no longer be allowed to be loaded via this mode unless they are explicitly allowlisted by the user via `torch.serialization.add_safe_globals`. We recommend you start setting `weights_only=True` for any use case where you don't have full control of the loaded file. Please open an issue on GitHub for any issues related to this experimental feature.\n",
      "  checkpoints = torch.load('checkpoint_paramodel/ckpt_rd_64_16_25_0.100_0.003_%d.pth'%(i))\n"
     ]
    },
    {
     "name": "stdout",
     "output_type": "stream",
     "text": [
      "bias for D:17.58249e-5\n",
      "std for D:41.42815e-5\n",
      "rmse for D:45.00484e-5\n",
      "bias for f:18237.72272e-5\n",
      "std for f:67.65474e-5\n",
      "rmse for f:18237.84820e-5\n",
      "rmse for u:146.78137e-5\n"
     ]
    }
   ],
   "source": [
    "import matplotlib.pyplot as plt\n",
    "import numpy as np\n",
    "import torch\n",
    "import os\n",
    "import RD_model\n",
    "\n",
    "\n",
    "dim=1\n",
    "hidden=[16,64,64,16,dim]\n",
    "test_x = np.linspace(0,1,1001,endpoint=True).reshape(1001,1)\n",
    "test_x = torch.tensor(test_x).float()\n",
    "true_f = lambda u: u*(1-u)\n",
    "para_mat = np.ndarray((1,50))\n",
    "nonpara_mat = np.ndarray((1001,50))\n",
    "u_mat = np.ndarray((1,50))\n",
    "for i in range(50):\n",
    "    checkpoints = torch.load('checkpoint_paramodel/ckpt_rd_64_16_25_0.100_0.003_%d.pth'%(i))\n",
    "    model_net = RD_model.NonParametricModel(state_dim=dim,hidden=hidden)\n",
    "    model_net.net.load_state_dict(checkpoints['net'])\n",
    "    para_mat[:,i] = checkpoints['D'].to('cpu').detach().numpy()*1e-3\n",
    "    nonpara_mat[:,i:(i+1)] = (model_net.net(test_x) - true_f(test_x)).detach().to('cpu').numpy()\n",
    "    u_mat[:,i] = checkpoints['u_loss']\n",
    "bias = np.mean(para_mat,axis=1) - 3e-3\n",
    "std = np.sqrt(np.mean(np.square(para_mat - np.mean(para_mat,axis=1)),axis=1))\n",
    "rmse = np.sqrt(bias**2 + std**2)\n",
    "bias_non = np.sqrt(np.mean(np.square(np.mean(nonpara_mat,axis=1))))\n",
    "std_non = np.sqrt(np.mean(np.square(nonpara_mat -np.mean(nonpara_mat,axis=1,keepdims=True))))\n",
    "rmse_non = np.sqrt(bias_non**2 + std_non**2)\n",
    "rmse_u = np.sqrt(np.mean(u_mat,axis=1))\n",
    "print('bias for D:%.5fe-5'%(bias*1e5))\n",
    "print('std for D:%.5fe-5'%(std*1e5))\n",
    "print('rmse for D:%.5fe-5'%(rmse*1e5))\n",
    "print('bias for f:%.5fe-5'%(bias_non*1e5))\n",
    "print('std for f:%.5fe-5'%(std_non*1e5))\n",
    "print('rmse for f:%.5fe-5'%(rmse_non*1e5))\n",
    "print('rmse for u:%.5fe-5'%(rmse_u*1e5))\n"
   ]
  },
  {
   "cell_type": "code",
   "execution_count": 15,
   "metadata": {},
   "outputs": [
    {
     "name": "stderr",
     "output_type": "stream",
     "text": [
      "/tmp/ipykernel_99572/3667149919.py:17: FutureWarning: You are using `torch.load` with `weights_only=False` (the current default value), which uses the default pickle module implicitly. It is possible to construct malicious pickle data which will execute arbitrary code during unpickling (See https://github.com/pytorch/pytorch/blob/main/SECURITY.md#untrusted-models for more details). In a future release, the default value for `weights_only` will be flipped to `True`. This limits the functions that could be executed during unpickling. Arbitrary objects will no longer be allowed to be loaded via this mode unless they are explicitly allowlisted by the user via `torch.serialization.add_safe_globals`. We recommend you start setting `weights_only=True` for any use case where you don't have full control of the loaded file. Please open an issue on GitHub for any issues related to this experimental feature.\n",
      "  checkpoints = torch.load('checkpoint_paramodel/ckpt_rd_pinn2_64_16_25_0.500_0.003_%d.pth'%(i))\n"
     ]
    },
    {
     "name": "stdout",
     "output_type": "stream",
     "text": [
      "bias for D:-124.60063e-5\n",
      "std for D:546.73654e-5\n",
      "rmse for D:560.75499e-5\n",
      "bias for f:7634.71291e-5\n",
      "std for f:31209.85943e-5\n",
      "rmse for f:32130.11308e-5\n",
      "rmse for u:nane-5\n"
     ]
    },
    {
     "name": "stderr",
     "output_type": "stream",
     "text": [
      "/tmp/ipykernel_99572/3667149919.py:29: RuntimeWarning: invalid value encountered in sqrt\n",
      "  rmse_u = np.sqrt(np.mean(u_mat,axis=1))\n"
     ]
    }
   ],
   "source": [
    "import matplotlib.pyplot as plt\n",
    "import numpy as np\n",
    "import torch\n",
    "import os\n",
    "import PINN_model\n",
    "\n",
    "\n",
    "dim=1\n",
    "hidden=[16,64,64,16,dim]\n",
    "test_x = np.linspace(0,1,1001,endpoint=True).reshape(1001,1)\n",
    "test_x = torch.tensor(test_x).float()\n",
    "true_f = lambda u: u*(1-u)\n",
    "para_mat = np.ndarray((1,50))\n",
    "nonpara_mat = np.ndarray((1001,50))\n",
    "u_mat = np.ndarray((1,50))\n",
    "for i in range(50):\n",
    "    checkpoints = torch.load('checkpoint_paramodel/ckpt_rd_pinn2_64_16_25_0.500_0.003_%d.pth'%(i))\n",
    "    model_net = PINN_model.RDEquation(state_dim=dim,hidden=hidden)\n",
    "    model_net.net.load_state_dict(checkpoints['PDE_model_net'])\n",
    "    para_mat[:,i] = checkpoints['D'].to('cpu').detach().numpy()\n",
    "    nonpara_mat[:,i:(i+1)] = (model_net.net(test_x) - true_f(test_x)).detach().cpu().numpy()\n",
    "    u_mat[:,i] = checkpoints['u_loss']\n",
    "bias = np.mean(para_mat,axis=1) - 3e-3\n",
    "std = np.sqrt(np.mean(np.square(para_mat - np.mean(para_mat,axis=1)),axis=1))\n",
    "rmse = np.sqrt(bias**2 + std**2)\n",
    "bias_non = np.sqrt(np.mean(np.square(np.mean(nonpara_mat,axis=1))))\n",
    "std_non = np.sqrt(np.mean(np.square(nonpara_mat -np.mean(nonpara_mat,axis=1,keepdims=True))))\n",
    "rmse_non = np.sqrt(bias_non**2 + std_non**2)\n",
    "rmse_u = np.sqrt(np.mean(u_mat,axis=1))\n",
    "print('bias for D:%.5fe-5'%(bias*1e5))\n",
    "print('std for D:%.5fe-5'%(std*1e5))\n",
    "print('rmse for D:%.5fe-5'%(rmse*1e5))\n",
    "print('bias for f:%.5fe-5'%(bias_non*1e5))\n",
    "print('std for f:%.5fe-5'%(std_non*1e5))\n",
    "print('rmse for f:%.5fe-5'%(rmse_non*1e5))\n",
    "print('rmse for u:%.5fe-5'%(rmse_u*1e5))\n"
   ]
  },
  {
   "cell_type": "code",
   "execution_count": 1,
   "metadata": {},
   "outputs": [
    {
     "name": "stderr",
     "output_type": "stream",
     "text": [
      "/home/yuanyuanbenben/anaconda3/envs/nnbase/lib/python3.8/site-packages/ignite/handlers/checkpoint.py:16: DeprecationWarning: `TorchScript` support for functional optimizers is deprecated and will be removed in a future PyTorch release. Consider using the `torch.compile` optimizer instead.\n",
      "  from torch.distributed.optim import ZeroRedundancyOptimizer\n",
      "/tmp/ipykernel_142104/4280306909.py:12: FutureWarning: You are using `torch.load` with `weights_only=False` (the current default value), which uses the default pickle module implicitly. It is possible to construct malicious pickle data which will execute arbitrary code during unpickling (See https://github.com/pytorch/pytorch/blob/main/SECURITY.md#untrusted-models for more details). In a future release, the default value for `weights_only` will be flipped to `True`. This limits the functions that could be executed during unpickling. Arbitrary objects will no longer be allowed to be loaded via this mode unless they are explicitly allowlisted by the user via `torch.serialization.add_safe_globals`. We recommend you start setting `weights_only=True` for any use case where you don't have full control of the loaded file. Please open an issue on GitHub for any issues related to this experimental feature.\n",
      "  checkpoints = torch.load('checkpoint/ckpt_rd2_nonpara_64_16_25_0.100_0.003_%d.pth'%(i))\n"
     ]
    },
    {
     "name": "stdout",
     "output_type": "stream",
     "text": [
      "rmse for u:2458.02589e-5\n"
     ]
    }
   ],
   "source": [
    "import matplotlib.pyplot as plt\n",
    "import numpy as np\n",
    "import torch\n",
    "import os\n",
    "import RD_model\n",
    "\n",
    "\n",
    "dim=1\n",
    "hidden=[16,64,64,16,dim]\n",
    "u_mat = np.ndarray((1,50))\n",
    "for i in range(50):\n",
    "    checkpoints = torch.load('checkpoint/ckpt_rd2_nonpara_64_16_25_0.100_0.003_%d.pth'%(i))\n",
    "    u_mat[:,i] = checkpoints['u_loss']\n",
    "\n",
    "rmse_u = np.sqrt(np.mean(u_mat,axis=1))\n",
    "print('rmse for u:%.5fe-5'%(rmse_u*1e5))\n"
   ]
  },
  {
   "cell_type": "code",
   "execution_count": 31,
   "metadata": {},
   "outputs": [
    {
     "data": {
      "text/plain": [
       "[<matplotlib.lines.Line2D at 0x7f7dea648700>,\n",
       " <matplotlib.lines.Line2D at 0x7f7dea653670>]"
      ]
     },
     "execution_count": 31,
     "metadata": {},
     "output_type": "execute_result"
    },
    {
     "data": {
      "image/png": "[encoded data removed]",
      "text/plain": [
       "<Figure size 640x480 with 1 Axes>"
      ]
     },
     "metadata": {},
     "output_type": "display_data"
    }
   ],
   "source": [
    "plt.plot(test_x,model_net.net(test_x).detach(),test_x,true_f(test_x))"
   ]
  }
 ],
 "metadata": {
  "kernelspec": {
   "display_name": "nnbase",
   "language": "python",
   "name": "python3"
  },
  "language_info": {
   "codemirror_mode": {
    "name": "ipython",
    "version": 3
   },
   "file_extension": ".py",
   "mimetype": "text/x-python",
   "name": "python",
   "nbconvert_exporter": "python",
   "pygments_lexer": "ipython3",
   "version": "3.8.19"
  }
 },
 "nbformat": 4,
 "nbformat_minor": 2
}
